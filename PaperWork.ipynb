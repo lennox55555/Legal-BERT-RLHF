{
  "cells": [
    {
      "cell_type": "markdown",
      "id": "238e906b-875a-4c31-bfc3-903944c44c90",
      "metadata": {
        "id": "238e906b-875a-4c31-bfc3-903944c44c90"
      },
      "source": [
        "1. Introduction\n",
        "\n",
        "    Background and Motivation\n",
        "    The Role of AI in Legal Interpretation\n",
        "    Challenges of Bias in Legal AI Models\n",
        "    Distinction Between Interpretability and Explainability\n",
        "    Objectives and Hypotheses of the Study\n",
        "\n",
        "2. Literature Review\n",
        "\n",
        "    LegalBERT and Its Applications\n",
        "    Bias in Natural Language Processing Models\n",
        "    Understanding Interpretability vs. Explainability\n",
        "        Definitions and Differences\n",
        "        Importance in AI Models\n",
        "    Attention Mechanisms in Deep Learning\n",
        "    Interpretability Methods\n",
        "        Integrated Gradients\n",
        "        Saliency Scores\n",
        "    Explainability Methods\n",
        "        Counterfactual Explanations\n",
        "        Other Explainability Techniques\n",
        "    Previous Work on Bias Detection and Mitigation\n",
        "\n",
        "3. Methodology\n",
        "\n",
        "    Data Collection and Preparation\n",
        "        Sources of Legislative Data\n",
        "        Preprocessing Techniques\n",
        "    Model Fine-Tuning Process\n",
        "        Details of Fine-Tuning LegalBERT\n",
        "        Baseline Models for Comparison\n",
        "    Experimental Design\n",
        "        Prompt Perturbation Strategies\n",
        "        Implementation of Interpretability Methods\n",
        "        Implementation of Explainability Methods\n",
        "    Evaluation Metrics\n",
        "        Measuring Sensitivity and Bias\n",
        "        Statistical Analysis Techniques\n",
        "\n",
        "4. Results\n",
        "\n",
        "    Robustness to Prompt Perturbations\n",
        "        Impact on Model Predictions\n",
        "        Statistical Significance Testing\n",
        "    Analysis of Attention Mechanisms\n",
        "        Findings from Interpretability Methods\n",
        "            Integrated Gradients Results\n",
        "            Saliency Score Patterns\n",
        "        Insights from Explainability Methods\n",
        "            Counterfactual Explanation Findings\n",
        "    Identification of Unintended Biases\n",
        "        Specific Linguistic Features Influencing the Model\n",
        "        Quantification of Bias Effects\n",
        "\n",
        "5. Discussion\n",
        "\n",
        "    Interpretation of Results\n",
        "        Comparing Findings with Null Hypothesis\n",
        "        Implications for Legal Interpretations\n",
        "    Sources of Bias\n",
        "        Data-Driven Biases\n",
        "        Model Architecture Considerations\n",
        "    Effectiveness of Interpretability and Explainability Methods\n",
        "        Complementary Insights Provided\n",
        "    Limitations of the Study\n",
        "        Data Limitations\n",
        "        Methodological Constraints\n",
        "\n",
        "6. Bias Mitigation Techniques\n",
        "\n",
        "    Alignment Strategies\n",
        "        Approaches to Reduce Bias\n",
        "        Implementation Details\n",
        "    Evaluation of Mitigation Efforts\n",
        "        Post-Mitigation Analysis\n",
        "        Effectiveness of Different Techniques\n",
        "    Recommendations for Model Improvement\n",
        "\n",
        "7. Conclusion\n",
        "\n",
        "    Summary of Key Findings\n",
        "    Contributions to the Field\n",
        "    Implications for Future Research and Practice\n",
        "    Final Remarks\n",
        "\n",
        "8. References\n",
        "\n",
        "    Citations of All Sources Used\n",
        "\n",
        "9. Appendices\n",
        "\n",
        "    Supplementary Data\n",
        "        Additional Tables and Figures\n",
        "    Detailed Methodological Procedures\n",
        "    Code and Model Availability"
      ]
    },
    {
      "cell_type": "code",
      "source": [
        "from google.colab import drive\n",
        "drive.mount('/content/drive')"
      ],
      "metadata": {
        "colab": {
          "base_uri": "https://localhost:8080/"
        },
        "id": "yH6BAiFZ4Ztp",
        "outputId": "9112b2aa-4a97-445b-85f8-7909f125a568"
      },
      "id": "yH6BAiFZ4Ztp",
      "execution_count": null,
      "outputs": [
        {
          "output_type": "stream",
          "name": "stdout",
          "text": [
            "Drive already mounted at /content/drive; to attempt to forcibly remount, call drive.mount(\"/content/drive\", force_remount=True).\n"
          ]
        }
      ]
    },
    {
      "cell_type": "markdown",
      "id": "e09fde44-0beb-4084-bf6b-52436b7f0d2c",
      "metadata": {
        "id": "e09fde44-0beb-4084-bf6b-52436b7f0d2c"
      },
      "source": [
        "Data Collection:\n",
        "\n",
        "\n",
        "https://www.congress.gov/browse/policyarea/93rd-congress"
      ]
    },
    {
      "cell_type": "code",
      "execution_count": null,
      "id": "51cb8647-1e8e-40ec-b45f-3fd08d0a0793",
      "metadata": {
        "id": "51cb8647-1e8e-40ec-b45f-3fd08d0a0793"
      },
      "outputs": [],
      "source": []
    },
    {
      "cell_type": "code",
      "execution_count": null,
      "id": "e5069e54-1cb4-4861-b364-764a94fd5ac5",
      "metadata": {
        "id": "e5069e54-1cb4-4861-b364-764a94fd5ac5"
      },
      "outputs": [],
      "source": []
    },
    {
      "cell_type": "code",
      "execution_count": null,
      "id": "f2e04606-e021-4150-b340-53e48af5fbbd",
      "metadata": {
        "id": "f2e04606-e021-4150-b340-53e48af5fbbd"
      },
      "outputs": [],
      "source": []
    },
    {
      "cell_type": "code",
      "execution_count": null,
      "id": "8bbdab90-cde0-42ae-a286-97467d2d0728",
      "metadata": {
        "id": "8bbdab90-cde0-42ae-a286-97467d2d0728"
      },
      "outputs": [],
      "source": []
    },
    {
      "cell_type": "code",
      "execution_count": null,
      "id": "79cbb9fc-0ec2-4c67-a10f-e9ce2bac5e80",
      "metadata": {
        "id": "79cbb9fc-0ec2-4c67-a10f-e9ce2bac5e80"
      },
      "outputs": [],
      "source": []
    },
    {
      "cell_type": "code",
      "execution_count": null,
      "id": "1f2fe820-f23f-4667-9570-44b176c1b9eb",
      "metadata": {
        "id": "1f2fe820-f23f-4667-9570-44b176c1b9eb"
      },
      "outputs": [],
      "source": []
    },
    {
      "cell_type": "code",
      "execution_count": null,
      "id": "f50240ab-2b96-4c2c-b0b5-c2ce615029c6",
      "metadata": {
        "id": "f50240ab-2b96-4c2c-b0b5-c2ce615029c6"
      },
      "outputs": [],
      "source": []
    },
    {
      "cell_type": "code",
      "execution_count": null,
      "id": "6d26bdae-e3c3-45bc-b7ef-bed5857a1a7a",
      "metadata": {
        "id": "6d26bdae-e3c3-45bc-b7ef-bed5857a1a7a"
      },
      "outputs": [],
      "source": []
    },
    {
      "cell_type": "code",
      "execution_count": null,
      "id": "db8c8cec-e103-4ed8-a3a8-bba00eba8f16",
      "metadata": {
        "colab": {
          "base_uri": "https://localhost:8080/"
        },
        "id": "db8c8cec-e103-4ed8-a3a8-bba00eba8f16",
        "outputId": "defac89b-6da0-45dd-bdca-f873809d97d8"
      },
      "outputs": [
        {
          "output_type": "stream",
          "name": "stdout",
          "text": [
            "Number of duplicate rows: 0\n"
          ]
        }
      ],
      "source": [
        "import pandas as pd\n",
        "\n",
        "# Load your CSV file\n",
        "file_path = './93-118OCT28MasterCSV.csv'  # Replace with your file path\n",
        "df = pd.read_csv(file_path)\n",
        "\n",
        "# Check for duplicate rows\n",
        "num_duplicates = df.duplicated().sum()\n",
        "\n",
        "print(f\"Number of duplicate rows: {num_duplicates}\")\n"
      ]
    },
    {
      "cell_type": "code",
      "execution_count": null,
      "id": "41f187b7-ddfb-464e-b24a-11c06fb90712",
      "metadata": {
        "id": "41f187b7-ddfb-464e-b24a-11c06fb90712"
      },
      "outputs": [],
      "source": [
        "df.dropna(subset=['Title', 'Subject'], inplace=True)"
      ]
    },
    {
      "cell_type": "code",
      "execution_count": null,
      "id": "df161f45-1b9b-4d3b-8fe7-49e120e968e0",
      "metadata": {
        "id": "df161f45-1b9b-4d3b-8fe7-49e120e968e0"
      },
      "outputs": [],
      "source": [
        "df['Title'] = df['Title'].str.lower()"
      ]
    },
    {
      "cell_type": "code",
      "execution_count": null,
      "id": "9427d1da-d4f0-49d3-bb8f-b50ab3c041da",
      "metadata": {
        "id": "9427d1da-d4f0-49d3-bb8f-b50ab3c041da"
      },
      "outputs": [],
      "source": [
        "df['Title'] = df['Title'].str.strip().str.replace(r'\\s+', ' ', regex=True)"
      ]
    },
    {
      "cell_type": "code",
      "execution_count": null,
      "id": "ecf71ff3-bee8-46bf-ab19-73bfecf019bb",
      "metadata": {
        "id": "ecf71ff3-bee8-46bf-ab19-73bfecf019bb"
      },
      "outputs": [],
      "source": [
        "# Remove specific symbols but keep common punctuation\n",
        "df['Title'] = df['Title'].str.replace(r'[^\\w\\s,;:.]', '', regex=True)"
      ]
    },
    {
      "cell_type": "code",
      "execution_count": null,
      "id": "b062ae56-ff8f-465f-aaba-59bcce5a3b0e",
      "metadata": {
        "colab": {
          "base_uri": "https://localhost:8080/"
        },
        "id": "b062ae56-ff8f-465f-aaba-59bcce5a3b0e",
        "outputId": "59b9fb93-968c-4c85-cc36-7b2a9d0e36dc"
      },
      "outputs": [
        {
          "output_type": "stream",
          "name": "stdout",
          "text": [
            "Mapping file created as 'category_mapping.csv'\n",
            "                                       Category  Encoded Value\n",
            "0                          Agriculture and Food              0\n",
            "1                                       Animals              1\n",
            "2            Armed Forces and National Security              2\n",
            "3                   Arts, Culture, and Religion              3\n",
            "4   Civil Rights and Liberties, Minority Issues              4\n",
            "5                                      Commerce              5\n",
            "6                                      Congress              6\n",
            "7                     Crime and Law Enforcement              7\n",
            "8                   Economics and PublicFinance              8\n",
            "9                                     Education              9\n",
            "10                         Emergency Management             10\n",
            "11                                       Energy             11\n",
            "12                     Environmental Protection             12\n",
            "13                                     Families             13\n",
            "14                 Finance and Financial Sector             14\n",
            "15      Foreign Trade and International Finance             15\n",
            "16           Government Operations and Politics             16\n",
            "17                                       Health             17\n",
            "18            Housing and Community Development             18\n",
            "19                                  Immigration             19\n",
            "20                        International Affairs             20\n",
            "21                         Labor and Employment             21\n",
            "22                                          Law             22\n",
            "23                             Native Americans             23\n",
            "24           Public Lands and Natural Resources             24\n",
            "25          Science, Technology, Communications             25\n",
            "26                  Social Sciences and History             26\n",
            "27                               Social Welfare             27\n",
            "28                        Sports and Recreation             28\n",
            "29                                     Taxation             29\n",
            "30              Transportation and Public Works             30\n",
            "31                  Water Resources Development             31\n"
          ]
        }
      ],
      "source": [
        "import pandas as pd\n",
        "from sklearn.preprocessing import LabelEncoder\n",
        "\n",
        "# Encode the 'category' column\n",
        "le = LabelEncoder()\n",
        "df['category_encoded'] = le.fit_transform(df['Subject'])\n",
        "\n",
        "# Create a dynamic mapping DataFrame\n",
        "mapping_df = pd.DataFrame({\n",
        "    'Category': le.classes_,\n",
        "    'Encoded Value': range(len(le.classes_))\n",
        "})\n",
        "\n",
        "# Save the mapping to a CSV file\n",
        "mapping_df.to_csv('subject_mapping.csv', index=False)\n",
        "\n",
        "print(\"Mapping file created as 'category_mapping.csv'\")\n",
        "print(mapping_df)\n"
      ]
    },
    {
      "cell_type": "code",
      "execution_count": null,
      "id": "ea3b9952-77a4-4dd6-8f2e-792989ce47d4",
      "metadata": {
        "colab": {
          "base_uri": "https://localhost:8080/",
          "height": 1000,
          "referenced_widgets": [
            "20072cad82e94967b9cc6335a8c7b6a2",
            "f479fe30074d44ac836d0d99138a88f3",
            "9986fa8e4c3f4be0a7876d943ca958e7",
            "1f0e8c131f224da1985b4b46d9424c08",
            "1f006fed849c4bc1ae0b30c603804939",
            "4a7da35fe5bb46279b8a102c51e1b19e",
            "4063eb3e4e454f5b95704964f9b0e4ed",
            "69867db1cc46416fa2cdb47de5f61d4d",
            "1a58d7d792534e08a87e274e2a2411fa",
            "fc392720f61e44d4a053165e1b8d5d95",
            "259705a8721943718982f299f52715a4",
            "710f493042ae4072a4bb2a142cafc95e",
            "ec37c4227be649be9c8e8e2ce30921bc",
            "1a0e903fc1434e73be51581a7756065d",
            "e319382547324f78918d4f07cb411306",
            "0ca788080f14444a8700e8ca23224245"
          ]
        },
        "id": "ea3b9952-77a4-4dd6-8f2e-792989ce47d4",
        "outputId": "f4f45158-3249-429e-8440-47739ab198cb"
      },
      "outputs": [
        {
          "data": {
            "text/html": [
              "Finishing last run (ID:nepr1i73) before initializing another..."
            ],
            "text/plain": [
              "<IPython.core.display.HTML object>"
            ]
          },
          "metadata": {},
          "output_type": "display_data"
        },
        {
          "data": {
            "application/vnd.jupyter.widget-view+json": {
              "model_id": "20072cad82e94967b9cc6335a8c7b6a2",
              "version_major": 2,
              "version_minor": 0
            },
            "text/plain": [
              "VBox(children=(Label(value='0.026 MB of 0.026 MB uploaded\\r'), FloatProgress(value=1.0, max=1.0)))"
            ]
          },
          "metadata": {},
          "output_type": "display_data"
        },
        {
          "data": {
            "text/html": [
              "<style>\n",
              "    table.wandb td:nth-child(1) { padding: 0 10px; text-align: left ; width: auto;} td:nth-child(2) {text-align: left ; width: 100%}\n",
              "    .wandb-row { display: flex; flex-direction: row; flex-wrap: wrap; justify-content: flex-start; width: 100% }\n",
              "    .wandb-col { display: flex; flex-direction: column; flex-basis: 100%; flex: 1; padding: 10px; }\n",
              "    </style>\n",
              "<div class=\"wandb-row\"><div class=\"wandb-col\"><h3>Run history:</h3><br/><table class=\"wandb\"><tr><td>eval/loss</td><td>█▁</td></tr><tr><td>eval/runtime</td><td>█▁</td></tr><tr><td>eval/samples_per_second</td><td>▁█</td></tr><tr><td>eval/steps_per_second</td><td>▁█</td></tr><tr><td>train/epoch</td><td>▁▁▂▂▂▂▂▂▂▃▃▄▄▄▄▄▄▄▄▄▅▅▅▅▅▅▅▅▅▆▆▆▆▇▇▇▇▇▇█</td></tr><tr><td>train/global_step</td><td>▁▁▁▁▁▂▂▂▂▃▃▃▃▃▄▄▄▄▄▄▄▄▄▄▄▅▅▆▆▆▆▆▆▇▇▇▇▇██</td></tr><tr><td>train/grad_norm</td><td>▅▄▂▃▁▂▃▁▃▃▄▅▃▂▄▃▄█▆▄▇▄▆▆▇▃▅▂▆▆▄▄▃▅▆▇▅▆▆▅</td></tr><tr><td>train/learning_rate</td><td>████▇▇▇▇▇▇▆▆▆▆▆▅▅▅▅▅▅▅▅▅▅▄▃▃▃▃▃▃▃▂▂▂▁▁▁▁</td></tr><tr><td>train/loss</td><td>███▇▇▅▃▃▄▃▂▂▂▂▂▂▂▂▂▂▁▂▂▁▂▁▁▂▁▁▁▁▂▁▁▁▁▁▁▁</td></tr></table><br/></div><div class=\"wandb-col\"><h3>Run summary:</h3><br/><table class=\"wandb\"><tr><td>eval/loss</td><td>1.09822</td></tr><tr><td>eval/runtime</td><td>1423.6263</td></tr><tr><td>eval/samples_per_second</td><td>45.016</td></tr><tr><td>eval/steps_per_second</td><td>5.627</td></tr><tr><td>train/epoch</td><td>2.11341</td></tr><tr><td>train/global_step</td><td>33860</td></tr><tr><td>train/grad_norm</td><td>11.06134</td></tr><tr><td>train/learning_rate</td><td>0.0</td></tr><tr><td>train/loss</td><td>1.1037</td></tr></table><br/></div></div>"
            ],
            "text/plain": [
              "<IPython.core.display.HTML object>"
            ]
          },
          "metadata": {},
          "output_type": "display_data"
        },
        {
          "data": {
            "text/html": [
              " View run <strong style=\"color:#cdcd00\">training-run-1</strong> at: <a href='https://wandb.ai/andersonlennox381-duke-university/legal-bert-classification/runs/nepr1i73' target=\"_blank\">https://wandb.ai/andersonlennox381-duke-university/legal-bert-classification/runs/nepr1i73</a><br/> View project at: <a href='https://wandb.ai/andersonlennox381-duke-university/legal-bert-classification' target=\"_blank\">https://wandb.ai/andersonlennox381-duke-university/legal-bert-classification</a><br/>Synced 5 W&B file(s), 0 media file(s), 0 artifact file(s) and 0 other file(s)"
            ],
            "text/plain": [
              "<IPython.core.display.HTML object>"
            ]
          },
          "metadata": {},
          "output_type": "display_data"
        },
        {
          "data": {
            "text/html": [
              "Find logs at: <code>./wandb/run-20241031_035403-nepr1i73/logs</code>"
            ],
            "text/plain": [
              "<IPython.core.display.HTML object>"
            ]
          },
          "metadata": {},
          "output_type": "display_data"
        },
        {
          "data": {
            "text/html": [
              "Successfully finished last run (ID:nepr1i73). Initializing new run:<br/>"
            ],
            "text/plain": [
              "<IPython.core.display.HTML object>"
            ]
          },
          "metadata": {},
          "output_type": "display_data"
        },
        {
          "data": {
            "text/html": [
              "Tracking run with wandb version 0.18.5"
            ],
            "text/plain": [
              "<IPython.core.display.HTML object>"
            ]
          },
          "metadata": {},
          "output_type": "display_data"
        },
        {
          "data": {
            "text/html": [
              "Run data is saved locally in <code>/content/wandb/run-20241031_145018-htft3gwq</code>"
            ],
            "text/plain": [
              "<IPython.core.display.HTML object>"
            ]
          },
          "metadata": {},
          "output_type": "display_data"
        },
        {
          "data": {
            "text/html": [
              "Syncing run <strong><a href='https://wandb.ai/andersonlennox381-duke-university/legal-bert-classification/runs/htft3gwq' target=\"_blank\">training-run-1</a></strong> to <a href='https://wandb.ai/andersonlennox381-duke-university/legal-bert-classification' target=\"_blank\">Weights & Biases</a> (<a href='https://wandb.me/run' target=\"_blank\">docs</a>)<br/>"
            ],
            "text/plain": [
              "<IPython.core.display.HTML object>"
            ]
          },
          "metadata": {},
          "output_type": "display_data"
        },
        {
          "data": {
            "text/html": [
              " View project at <a href='https://wandb.ai/andersonlennox381-duke-university/legal-bert-classification' target=\"_blank\">https://wandb.ai/andersonlennox381-duke-university/legal-bert-classification</a>"
            ],
            "text/plain": [
              "<IPython.core.display.HTML object>"
            ]
          },
          "metadata": {},
          "output_type": "display_data"
        },
        {
          "data": {
            "text/html": [
              " View run at <a href='https://wandb.ai/andersonlennox381-duke-university/legal-bert-classification/runs/htft3gwq' target=\"_blank\">https://wandb.ai/andersonlennox381-duke-university/legal-bert-classification/runs/htft3gwq</a>"
            ],
            "text/plain": [
              "<IPython.core.display.HTML object>"
            ]
          },
          "metadata": {},
          "output_type": "display_data"
        },
        {
          "metadata": {
            "tags": null
          },
          "name": "stdout",
          "output_type": "stream",
          "text": [
            "Using device: cuda\n",
            "Label mapping saved to 'label_mapping.json'\n",
            "Original and encoded labels saved to 'saved_labels.csv'\n"
          ]
        },
        {
          "metadata": {
            "tags": null
          },
          "name": "stderr",
          "output_type": "stream",
          "text": [
            "/usr/local/lib/python3.10/dist-packages/transformers/tokenization_utils_base.py:1601: FutureWarning: `clean_up_tokenization_spaces` was not set. It will be set to `True` by default. This behavior will be depracted in transformers v4.45, and will be then set to `False` by default. For more details check this issue: https://github.com/huggingface/transformers/issues/31884\n",
            "  warnings.warn(\n",
            "Some weights of BertForSequenceClassification were not initialized from the model checkpoint at nlpaueb/legal-bert-base-uncased and are newly initialized: ['classifier.bias', 'classifier.weight']\n",
            "You should probably TRAIN this model on a down-stream task to be able to use it for predictions and inference.\n",
            "/usr/local/lib/python3.10/dist-packages/transformers/training_args.py:1525: FutureWarning: `evaluation_strategy` is deprecated and will be removed in version 4.46 of 🤗 Transformers. Use `eval_strategy` instead\n",
            "  warnings.warn(\n"
          ]
        },
        {
          "data": {
            "text/html": [
              "\n",
              "    <div>\n",
              "      \n",
              "      <progress value='16022' max='32042' style='width:300px; height:20px; vertical-align: middle;'></progress>\n",
              "      [16022/32042 4:26:57 < 4:26:57, 1.00 it/s, Epoch 1.00/2]\n",
              "    </div>\n",
              "    <table border=\"1\" class=\"dataframe\">\n",
              "  <thead>\n",
              " <tr style=\"text-align: left;\">\n",
              "      <th>Epoch</th>\n",
              "      <th>Training Loss</th>\n",
              "      <th>Validation Loss</th>\n",
              "    </tr>\n",
              "  </thead>\n",
              "  <tbody>\n",
              "  </tbody>\n",
              "</table><p>\n",
              "    <div>\n",
              "      \n",
              "      <progress value='3721' max='8011' style='width:300px; height:20px; vertical-align: middle;'></progress>\n",
              "      [3721/8011 10:56 < 12:37, 5.66 it/s]\n",
              "    </div>\n",
              "    "
            ],
            "text/plain": [
              "<IPython.core.display.HTML object>"
            ]
          },
          "metadata": {},
          "output_type": "display_data"
        },
        {
          "output_type": "display_data",
          "data": {
            "text/plain": [
              "<IPython.core.display.HTML object>"
            ],
            "text/html": [
              "\n",
              "    <div>\n",
              "      \n",
              "      <progress value='32042' max='32042' style='width:300px; height:20px; vertical-align: middle;'></progress>\n",
              "      [32042/32042 9:43:45, Epoch 1/2]\n",
              "    </div>\n",
              "    <table border=\"1\" class=\"dataframe\">\n",
              "  <thead>\n",
              " <tr style=\"text-align: left;\">\n",
              "      <th>Epoch</th>\n",
              "      <th>Training Loss</th>\n",
              "      <th>Validation Loss</th>\n",
              "    </tr>\n",
              "  </thead>\n",
              "  <tbody>\n",
              "    <tr>\n",
              "      <td>0</td>\n",
              "      <td>1.386000</td>\n",
              "      <td>1.330662</td>\n",
              "    </tr>\n",
              "    <tr>\n",
              "      <td>1</td>\n",
              "      <td>0.932700</td>\n",
              "      <td>1.210325</td>\n",
              "    </tr>\n",
              "  </tbody>\n",
              "</table><p>"
            ]
          },
          "metadata": {}
        },
        {
          "output_type": "display_data",
          "data": {
            "text/plain": [
              "<IPython.core.display.HTML object>"
            ],
            "text/html": [
              "\n",
              "    <div>\n",
              "      \n",
              "      <progress value='8011' max='8011' style='width:300px; height:20px; vertical-align: middle;'></progress>\n",
              "      [8011/8011 23:37]\n",
              "    </div>\n",
              "    "
            ]
          },
          "metadata": {}
        },
        {
          "output_type": "stream",
          "name": "stdout",
          "text": [
            "Evaluation results: {'eval_loss': 1.2103253602981567, 'eval_runtime': 1418.071, 'eval_samples_per_second': 45.192, 'eval_steps_per_second': 5.649, 'epoch': 1.9999375838716724}\n"
          ]
        },
        {
          "output_type": "display_data",
          "data": {
            "text/plain": [
              "VBox(children=(Label(value='0.025 MB of 0.025 MB uploaded\\r'), FloatProgress(value=1.0, max=1.0)))"
            ],
            "application/vnd.jupyter.widget-view+json": {
              "version_major": 2,
              "version_minor": 0,
              "model_id": "1a58d7d792534e08a87e274e2a2411fa"
            }
          },
          "metadata": {}
        },
        {
          "output_type": "display_data",
          "data": {
            "text/plain": [
              "<IPython.core.display.HTML object>"
            ],
            "text/html": [
              "<style>\n",
              "    table.wandb td:nth-child(1) { padding: 0 10px; text-align: left ; width: auto;} td:nth-child(2) {text-align: left ; width: 100%}\n",
              "    .wandb-row { display: flex; flex-direction: row; flex-wrap: wrap; justify-content: flex-start; width: 100% }\n",
              "    .wandb-col { display: flex; flex-direction: column; flex-basis: 100%; flex: 1; padding: 10px; }\n",
              "    </style>\n",
              "<div class=\"wandb-row\"><div class=\"wandb-col\"><h3>Run history:</h3><br/><table class=\"wandb\"><tr><td>eval/loss</td><td>█▁▁</td></tr><tr><td>eval/runtime</td><td>▁█▆</td></tr><tr><td>eval/samples_per_second</td><td>█▁▃</td></tr><tr><td>eval/steps_per_second</td><td>█▁▃</td></tr><tr><td>train/epoch</td><td>▁▁▂▂▂▂▂▂▃▃▃▃▃▃▃▄▄▄▄▄▄▄▄▅▅▅▅▆▆▆▆▆▆▆▆▇▇███</td></tr><tr><td>train/global_step</td><td>▁▁▁▁▁▂▂▂▂▃▃▃▃▃▃▄▄▄▄▄▄▅▅▅▅▅▆▆▆▆▇▇▇▇▇█████</td></tr><tr><td>train/grad_norm</td><td>▂▂█▁▁▂▂▁▁▁▁▂▁▁▁▁▁▂▁▁▁▂▂▁▂▁▂▂▂▂▁▂▂▂▁▂▂▃▁▁</td></tr><tr><td>train/learning_rate</td><td>█████▇▇▇▇▇▇▇▇▇▆▆▆▅▅▅▅▅▅▅▅▄▄▃▃▃▂▂▂▂▂▁▁▁▁▁</td></tr><tr><td>train/loss</td><td>██▇██▇▅▄▄▄▃▃▂▃▃▂▂▃▂▂▁▂▂▂▂▁▂▁▂▂▂▂▁▁▁▂▂▂▁▂</td></tr></table><br/></div><div class=\"wandb-col\"><h3>Run summary:</h3><br/><table class=\"wandb\"><tr><td>eval/loss</td><td>1.21033</td></tr><tr><td>eval/runtime</td><td>1418.071</td></tr><tr><td>eval/samples_per_second</td><td>45.192</td></tr><tr><td>eval/steps_per_second</td><td>5.649</td></tr><tr><td>total_flos</td><td>9.618710848776e+16</td></tr><tr><td>train/epoch</td><td>1.99994</td></tr><tr><td>train/global_step</td><td>32042</td></tr><tr><td>train/grad_norm</td><td>14.8558</td></tr><tr><td>train/learning_rate</td><td>0.0</td></tr><tr><td>train/loss</td><td>0.9327</td></tr><tr><td>train_loss</td><td>1.67321</td></tr><tr><td>train_runtime</td><td>35026.786</td></tr><tr><td>train_samples_per_second</td><td>14.637</td></tr><tr><td>train_steps_per_second</td><td>0.915</td></tr></table><br/></div></div>"
            ]
          },
          "metadata": {}
        },
        {
          "output_type": "display_data",
          "data": {
            "text/plain": [
              "<IPython.core.display.HTML object>"
            ],
            "text/html": [
              " View run <strong style=\"color:#cdcd00\">training-run-1</strong> at: <a href='https://wandb.ai/andersonlennox381-duke-university/legal-bert-classification/runs/htft3gwq' target=\"_blank\">https://wandb.ai/andersonlennox381-duke-university/legal-bert-classification/runs/htft3gwq</a><br/> View project at: <a href='https://wandb.ai/andersonlennox381-duke-university/legal-bert-classification' target=\"_blank\">https://wandb.ai/andersonlennox381-duke-university/legal-bert-classification</a><br/>Synced 5 W&B file(s), 0 media file(s), 0 artifact file(s) and 0 other file(s)"
            ]
          },
          "metadata": {}
        },
        {
          "output_type": "display_data",
          "data": {
            "text/plain": [
              "<IPython.core.display.HTML object>"
            ],
            "text/html": [
              "Find logs at: <code>./wandb/run-20241031_145018-htft3gwq/logs</code>"
            ]
          },
          "metadata": {}
        }
      ],
      "source": [
        "import pandas as pd\n",
        "import torch\n",
        "import wandb\n",
        "from transformers import BertTokenizer, BertForSequenceClassification, Trainer, TrainingArguments\n",
        "from torch.utils.data import Dataset\n",
        "from sklearn.preprocessing import LabelEncoder\n",
        "from sklearn.model_selection import train_test_split\n",
        "import json\n",
        "\n",
        "# init wanb for real time train info\n",
        "wandb.init(project=\"legal-bert-classification\", name=\"training-run-1\")\n",
        "\n",
        "# had to buy credit on colab to use T4 gpu\n",
        "device = torch.device(\"cuda\") if torch.cuda.is_available() else torch.device(\"cpu\")\n",
        "print(f\"Using device: {device}\")\n",
        "\n",
        "\n",
        "texts = df['Title'].astype(str).tolist()\n",
        "labels = df['Subject'].tolist()\n",
        "\n",
        "# encode numeric\n",
        "label_encoder = LabelEncoder()\n",
        "encoded_labels = label_encoder.fit_transform(labels)\n",
        "num_labels = len(label_encoder.classes_)\n",
        "\n",
        "# log to wanb and save model\n",
        "label_mapping = dict(zip(label_encoder.classes_, range(len(label_encoder.classes_))))\n",
        "wandb.log({\"label_mapping\": label_mapping})\n",
        "\n",
        "# save label as file\n",
        "with open('label_mapping.json', 'w') as f:\n",
        "    json.dump(label_mapping, f)\n",
        "\n",
        "print(\"Label mapping saved to 'label_mapping.json'\")\n",
        "\n",
        "# save encode to csv\n",
        "labels_df = pd.DataFrame({\n",
        "    'Original Label': labels,\n",
        "    'Encoded Label': encoded_labels\n",
        "})\n",
        "labels_df.to_csv('saved_labels.csv', index=False)\n",
        "print(\"Original and encoded labels saved to 'saved_labels.csv'\")\n",
        "\n",
        "# split\n",
        "train_texts, val_texts, train_labels, val_labels = train_test_split(texts, encoded_labels, test_size=0.2, random_state=42)\n",
        "\n",
        "# tokenizer\n",
        "model_name = \"nlpaueb/legal-bert-base-uncased\"\n",
        "tokenizer = BertTokenizer.from_pretrained(model_name)\n",
        "def tokenize_function(texts):\n",
        "    return tokenizer(texts, padding=True, truncation=True, max_length=512)\n",
        "\n",
        "train_encodings = tokenize_function(train_texts)\n",
        "val_encodings = tokenize_function(val_texts)\n",
        "\n",
        "# custom pytorch class to handle encodings\n",
        "class LegislativeDataset(Dataset):\n",
        "\n",
        "    # constructor method that init\n",
        "    def __init__(self, encodings, labels):\n",
        "        self.encodings = encodings  # Store the tokenized inputs (encodings) as a class attribute\n",
        "        self.labels = labels  # Store the labels (categories) as a class attribute\n",
        "\n",
        "    # method to get a single data sample\n",
        "    def __getitem__(self, idx):\n",
        "        # create a dictionary of tensors for each encoding key and the associated value at the index\n",
        "        item = {key: torch.tensor(val[idx]) for key, val in self.encodings.items()}\n",
        "        # add the label at index idx to the item dictionary\n",
        "        item['labels'] = torch.tensor(self.labels[idx])\n",
        "        return item\n",
        "\n",
        "    # method to return the total number of samples\n",
        "    def __len__(self):\n",
        "        return len(self.labels)\n",
        "\n",
        "\n",
        "# create train and validation\n",
        "train_dataset = LegislativeDataset(train_encodings, train_labels)\n",
        "val_dataset = LegislativeDataset(val_encodings, val_labels)\n",
        "\n",
        "# load legal bert model for classification\n",
        "model = BertForSequenceClassification.from_pretrained(model_name, num_labels=num_labels)\n",
        "model.to(device)\n",
        "\n",
        "# training arguments with wandb\n",
        "training_args = TrainingArguments(\n",
        "    output_dir='./results',\n",
        "    evaluation_strategy='epoch',\n",
        "    save_strategy='epoch',\n",
        "    per_device_train_batch_size=8,\n",
        "    per_device_eval_batch_size=8,\n",
        "    num_train_epochs=2,\n",
        "    weight_decay=0.01,\n",
        "    logging_dir='./logs',\n",
        "    logging_steps=10,\n",
        "    load_best_model_at_end=True,\n",
        "    learning_rate=1e-6,\n",
        "    gradient_accumulation_steps=2,\n",
        "    max_grad_norm=0.5,\n",
        "    # Add wandb reporting\n",
        "    report_to=\"wandb\",\n",
        "    # Add run name for wandb\n",
        "    run_name=\"legal-bert-training\"\n",
        ")\n",
        "\n",
        "# trainer object for training and evaluation\n",
        "trainer = Trainer(\n",
        "    model=model,\n",
        "    args=training_args,\n",
        "    train_dataset=train_dataset,\n",
        "    eval_dataset=val_dataset\n",
        ")\n",
        "\n",
        "# train\n",
        "trainer.train()\n",
        "\n",
        "# save fine tune model\n",
        "model.save_pretrained('./fine_tuned_legalbert')\n",
        "tokenizer.save_pretrained('./fine_tuned_legalbert')\n",
        "\n",
        "# evaluate model on the validation set\n",
        "eval_results = trainer.evaluate()\n",
        "\n",
        "# log final evaluation results to wandb\n",
        "wandb.log({\"final_evaluation\": eval_results})\n",
        "\n",
        "print(f\"Evaluation results: {eval_results}\")\n",
        "\n",
        "# close wanb\n",
        "wandb.finish()\n"
      ]
    },
    {
      "cell_type": "code",
      "execution_count": null,
      "id": "03c4c3e2-83c5-4d91-a7f4-fbf3f020a3cb",
      "metadata": {
        "id": "03c4c3e2-83c5-4d91-a7f4-fbf3f020a3cb"
      },
      "outputs": [],
      "source": []
    }
  ],
  "metadata": {
    "kernelspec": {
      "display_name": "Python 3",
      "name": "python3"
    },
    "language_info": {
      "codemirror_mode": {
        "name": "ipython",
        "version": 3
      },
      "file_extension": ".py",
      "mimetype": "text/x-python",
      "name": "python",
      "nbconvert_exporter": "python",
      "pygments_lexer": "ipython3",
      "version": "3.12.2"
    },
    "colab": {
      "provenance": [],
      "gpuType": "T4"
    },
    "accelerator": "GPU",
    "widgets": {
      "application/vnd.jupyter.widget-state+json": {
        "20072cad82e94967b9cc6335a8c7b6a2": {
          "model_module": "@jupyter-widgets/controls",
          "model_name": "VBoxModel",
          "model_module_version": "1.5.0",
          "state": {
            "_dom_classes": [],
            "_model_module": "@jupyter-widgets/controls",
            "_model_module_version": "1.5.0",
            "_model_name": "VBoxModel",
            "_view_count": null,
            "_view_module": "@jupyter-widgets/controls",
            "_view_module_version": "1.5.0",
            "_view_name": "VBoxView",
            "box_style": "",
            "children": [
              "IPY_MODEL_f479fe30074d44ac836d0d99138a88f3",
              "IPY_MODEL_9986fa8e4c3f4be0a7876d943ca958e7"
            ],
            "layout": "IPY_MODEL_1f0e8c131f224da1985b4b46d9424c08"
          }
        },
        "f479fe30074d44ac836d0d99138a88f3": {
          "model_module": "@jupyter-widgets/controls",
          "model_name": "LabelModel",
          "model_module_version": "1.5.0",
          "state": {
            "_dom_classes": [],
            "_model_module": "@jupyter-widgets/controls",
            "_model_module_version": "1.5.0",
            "_model_name": "LabelModel",
            "_view_count": null,
            "_view_module": "@jupyter-widgets/controls",
            "_view_module_version": "1.5.0",
            "_view_name": "LabelView",
            "description": "",
            "description_tooltip": null,
            "layout": "IPY_MODEL_1f006fed849c4bc1ae0b30c603804939",
            "placeholder": "​",
            "style": "IPY_MODEL_4a7da35fe5bb46279b8a102c51e1b19e",
            "value": "0.026 MB of 0.026 MB uploaded\r"
          }
        },
        "9986fa8e4c3f4be0a7876d943ca958e7": {
          "model_module": "@jupyter-widgets/controls",
          "model_name": "FloatProgressModel",
          "model_module_version": "1.5.0",
          "state": {
            "_dom_classes": [],
            "_model_module": "@jupyter-widgets/controls",
            "_model_module_version": "1.5.0",
            "_model_name": "FloatProgressModel",
            "_view_count": null,
            "_view_module": "@jupyter-widgets/controls",
            "_view_module_version": "1.5.0",
            "_view_name": "ProgressView",
            "bar_style": "",
            "description": "",
            "description_tooltip": null,
            "layout": "IPY_MODEL_4063eb3e4e454f5b95704964f9b0e4ed",
            "max": 1,
            "min": 0,
            "orientation": "horizontal",
            "style": "IPY_MODEL_69867db1cc46416fa2cdb47de5f61d4d",
            "value": 1
          }
        },
        "1f0e8c131f224da1985b4b46d9424c08": {
          "model_module": "@jupyter-widgets/base",
          "model_name": "LayoutModel",
          "model_module_version": "1.2.0",
          "state": {
            "_model_module": "@jupyter-widgets/base",
            "_model_module_version": "1.2.0",
            "_model_name": "LayoutModel",
            "_view_count": null,
            "_view_module": "@jupyter-widgets/base",
            "_view_module_version": "1.2.0",
            "_view_name": "LayoutView",
            "align_content": null,
            "align_items": null,
            "align_self": null,
            "border": null,
            "bottom": null,
            "display": null,
            "flex": null,
            "flex_flow": null,
            "grid_area": null,
            "grid_auto_columns": null,
            "grid_auto_flow": null,
            "grid_auto_rows": null,
            "grid_column": null,
            "grid_gap": null,
            "grid_row": null,
            "grid_template_areas": null,
            "grid_template_columns": null,
            "grid_template_rows": null,
            "height": null,
            "justify_content": null,
            "justify_items": null,
            "left": null,
            "margin": null,
            "max_height": null,
            "max_width": null,
            "min_height": null,
            "min_width": null,
            "object_fit": null,
            "object_position": null,
            "order": null,
            "overflow": null,
            "overflow_x": null,
            "overflow_y": null,
            "padding": null,
            "right": null,
            "top": null,
            "visibility": null,
            "width": null
          }
        },
        "1f006fed849c4bc1ae0b30c603804939": {
          "model_module": "@jupyter-widgets/base",
          "model_name": "LayoutModel",
          "model_module_version": "1.2.0",
          "state": {
            "_model_module": "@jupyter-widgets/base",
            "_model_module_version": "1.2.0",
            "_model_name": "LayoutModel",
            "_view_count": null,
            "_view_module": "@jupyter-widgets/base",
            "_view_module_version": "1.2.0",
            "_view_name": "LayoutView",
            "align_content": null,
            "align_items": null,
            "align_self": null,
            "border": null,
            "bottom": null,
            "display": null,
            "flex": null,
            "flex_flow": null,
            "grid_area": null,
            "grid_auto_columns": null,
            "grid_auto_flow": null,
            "grid_auto_rows": null,
            "grid_column": null,
            "grid_gap": null,
            "grid_row": null,
            "grid_template_areas": null,
            "grid_template_columns": null,
            "grid_template_rows": null,
            "height": null,
            "justify_content": null,
            "justify_items": null,
            "left": null,
            "margin": null,
            "max_height": null,
            "max_width": null,
            "min_height": null,
            "min_width": null,
            "object_fit": null,
            "object_position": null,
            "order": null,
            "overflow": null,
            "overflow_x": null,
            "overflow_y": null,
            "padding": null,
            "right": null,
            "top": null,
            "visibility": null,
            "width": null
          }
        },
        "4a7da35fe5bb46279b8a102c51e1b19e": {
          "model_module": "@jupyter-widgets/controls",
          "model_name": "DescriptionStyleModel",
          "model_module_version": "1.5.0",
          "state": {
            "_model_module": "@jupyter-widgets/controls",
            "_model_module_version": "1.5.0",
            "_model_name": "DescriptionStyleModel",
            "_view_count": null,
            "_view_module": "@jupyter-widgets/base",
            "_view_module_version": "1.2.0",
            "_view_name": "StyleView",
            "description_width": ""
          }
        },
        "4063eb3e4e454f5b95704964f9b0e4ed": {
          "model_module": "@jupyter-widgets/base",
          "model_name": "LayoutModel",
          "model_module_version": "1.2.0",
          "state": {
            "_model_module": "@jupyter-widgets/base",
            "_model_module_version": "1.2.0",
            "_model_name": "LayoutModel",
            "_view_count": null,
            "_view_module": "@jupyter-widgets/base",
            "_view_module_version": "1.2.0",
            "_view_name": "LayoutView",
            "align_content": null,
            "align_items": null,
            "align_self": null,
            "border": null,
            "bottom": null,
            "display": null,
            "flex": null,
            "flex_flow": null,
            "grid_area": null,
            "grid_auto_columns": null,
            "grid_auto_flow": null,
            "grid_auto_rows": null,
            "grid_column": null,
            "grid_gap": null,
            "grid_row": null,
            "grid_template_areas": null,
            "grid_template_columns": null,
            "grid_template_rows": null,
            "height": null,
            "justify_content": null,
            "justify_items": null,
            "left": null,
            "margin": null,
            "max_height": null,
            "max_width": null,
            "min_height": null,
            "min_width": null,
            "object_fit": null,
            "object_position": null,
            "order": null,
            "overflow": null,
            "overflow_x": null,
            "overflow_y": null,
            "padding": null,
            "right": null,
            "top": null,
            "visibility": null,
            "width": null
          }
        },
        "69867db1cc46416fa2cdb47de5f61d4d": {
          "model_module": "@jupyter-widgets/controls",
          "model_name": "ProgressStyleModel",
          "model_module_version": "1.5.0",
          "state": {
            "_model_module": "@jupyter-widgets/controls",
            "_model_module_version": "1.5.0",
            "_model_name": "ProgressStyleModel",
            "_view_count": null,
            "_view_module": "@jupyter-widgets/base",
            "_view_module_version": "1.2.0",
            "_view_name": "StyleView",
            "bar_color": null,
            "description_width": ""
          }
        },
        "1a58d7d792534e08a87e274e2a2411fa": {
          "model_module": "@jupyter-widgets/controls",
          "model_name": "VBoxModel",
          "model_module_version": "1.5.0",
          "state": {
            "_dom_classes": [],
            "_model_module": "@jupyter-widgets/controls",
            "_model_module_version": "1.5.0",
            "_model_name": "VBoxModel",
            "_view_count": null,
            "_view_module": "@jupyter-widgets/controls",
            "_view_module_version": "1.5.0",
            "_view_name": "VBoxView",
            "box_style": "",
            "children": [
              "IPY_MODEL_fc392720f61e44d4a053165e1b8d5d95",
              "IPY_MODEL_259705a8721943718982f299f52715a4"
            ],
            "layout": "IPY_MODEL_710f493042ae4072a4bb2a142cafc95e"
          }
        },
        "fc392720f61e44d4a053165e1b8d5d95": {
          "model_module": "@jupyter-widgets/controls",
          "model_name": "LabelModel",
          "model_module_version": "1.5.0",
          "state": {
            "_dom_classes": [],
            "_model_module": "@jupyter-widgets/controls",
            "_model_module_version": "1.5.0",
            "_model_name": "LabelModel",
            "_view_count": null,
            "_view_module": "@jupyter-widgets/controls",
            "_view_module_version": "1.5.0",
            "_view_name": "LabelView",
            "description": "",
            "description_tooltip": null,
            "layout": "IPY_MODEL_ec37c4227be649be9c8e8e2ce30921bc",
            "placeholder": "​",
            "style": "IPY_MODEL_1a0e903fc1434e73be51581a7756065d",
            "value": "0.025 MB of 0.025 MB uploaded\r"
          }
        },
        "259705a8721943718982f299f52715a4": {
          "model_module": "@jupyter-widgets/controls",
          "model_name": "FloatProgressModel",
          "model_module_version": "1.5.0",
          "state": {
            "_dom_classes": [],
            "_model_module": "@jupyter-widgets/controls",
            "_model_module_version": "1.5.0",
            "_model_name": "FloatProgressModel",
            "_view_count": null,
            "_view_module": "@jupyter-widgets/controls",
            "_view_module_version": "1.5.0",
            "_view_name": "ProgressView",
            "bar_style": "",
            "description": "",
            "description_tooltip": null,
            "layout": "IPY_MODEL_e319382547324f78918d4f07cb411306",
            "max": 1,
            "min": 0,
            "orientation": "horizontal",
            "style": "IPY_MODEL_0ca788080f14444a8700e8ca23224245",
            "value": 1
          }
        },
        "710f493042ae4072a4bb2a142cafc95e": {
          "model_module": "@jupyter-widgets/base",
          "model_name": "LayoutModel",
          "model_module_version": "1.2.0",
          "state": {
            "_model_module": "@jupyter-widgets/base",
            "_model_module_version": "1.2.0",
            "_model_name": "LayoutModel",
            "_view_count": null,
            "_view_module": "@jupyter-widgets/base",
            "_view_module_version": "1.2.0",
            "_view_name": "LayoutView",
            "align_content": null,
            "align_items": null,
            "align_self": null,
            "border": null,
            "bottom": null,
            "display": null,
            "flex": null,
            "flex_flow": null,
            "grid_area": null,
            "grid_auto_columns": null,
            "grid_auto_flow": null,
            "grid_auto_rows": null,
            "grid_column": null,
            "grid_gap": null,
            "grid_row": null,
            "grid_template_areas": null,
            "grid_template_columns": null,
            "grid_template_rows": null,
            "height": null,
            "justify_content": null,
            "justify_items": null,
            "left": null,
            "margin": null,
            "max_height": null,
            "max_width": null,
            "min_height": null,
            "min_width": null,
            "object_fit": null,
            "object_position": null,
            "order": null,
            "overflow": null,
            "overflow_x": null,
            "overflow_y": null,
            "padding": null,
            "right": null,
            "top": null,
            "visibility": null,
            "width": null
          }
        },
        "ec37c4227be649be9c8e8e2ce30921bc": {
          "model_module": "@jupyter-widgets/base",
          "model_name": "LayoutModel",
          "model_module_version": "1.2.0",
          "state": {
            "_model_module": "@jupyter-widgets/base",
            "_model_module_version": "1.2.0",
            "_model_name": "LayoutModel",
            "_view_count": null,
            "_view_module": "@jupyter-widgets/base",
            "_view_module_version": "1.2.0",
            "_view_name": "LayoutView",
            "align_content": null,
            "align_items": null,
            "align_self": null,
            "border": null,
            "bottom": null,
            "display": null,
            "flex": null,
            "flex_flow": null,
            "grid_area": null,
            "grid_auto_columns": null,
            "grid_auto_flow": null,
            "grid_auto_rows": null,
            "grid_column": null,
            "grid_gap": null,
            "grid_row": null,
            "grid_template_areas": null,
            "grid_template_columns": null,
            "grid_template_rows": null,
            "height": null,
            "justify_content": null,
            "justify_items": null,
            "left": null,
            "margin": null,
            "max_height": null,
            "max_width": null,
            "min_height": null,
            "min_width": null,
            "object_fit": null,
            "object_position": null,
            "order": null,
            "overflow": null,
            "overflow_x": null,
            "overflow_y": null,
            "padding": null,
            "right": null,
            "top": null,
            "visibility": null,
            "width": null
          }
        },
        "1a0e903fc1434e73be51581a7756065d": {
          "model_module": "@jupyter-widgets/controls",
          "model_name": "DescriptionStyleModel",
          "model_module_version": "1.5.0",
          "state": {
            "_model_module": "@jupyter-widgets/controls",
            "_model_module_version": "1.5.0",
            "_model_name": "DescriptionStyleModel",
            "_view_count": null,
            "_view_module": "@jupyter-widgets/base",
            "_view_module_version": "1.2.0",
            "_view_name": "StyleView",
            "description_width": ""
          }
        },
        "e319382547324f78918d4f07cb411306": {
          "model_module": "@jupyter-widgets/base",
          "model_name": "LayoutModel",
          "model_module_version": "1.2.0",
          "state": {
            "_model_module": "@jupyter-widgets/base",
            "_model_module_version": "1.2.0",
            "_model_name": "LayoutModel",
            "_view_count": null,
            "_view_module": "@jupyter-widgets/base",
            "_view_module_version": "1.2.0",
            "_view_name": "LayoutView",
            "align_content": null,
            "align_items": null,
            "align_self": null,
            "border": null,
            "bottom": null,
            "display": null,
            "flex": null,
            "flex_flow": null,
            "grid_area": null,
            "grid_auto_columns": null,
            "grid_auto_flow": null,
            "grid_auto_rows": null,
            "grid_column": null,
            "grid_gap": null,
            "grid_row": null,
            "grid_template_areas": null,
            "grid_template_columns": null,
            "grid_template_rows": null,
            "height": null,
            "justify_content": null,
            "justify_items": null,
            "left": null,
            "margin": null,
            "max_height": null,
            "max_width": null,
            "min_height": null,
            "min_width": null,
            "object_fit": null,
            "object_position": null,
            "order": null,
            "overflow": null,
            "overflow_x": null,
            "overflow_y": null,
            "padding": null,
            "right": null,
            "top": null,
            "visibility": null,
            "width": null
          }
        },
        "0ca788080f14444a8700e8ca23224245": {
          "model_module": "@jupyter-widgets/controls",
          "model_name": "ProgressStyleModel",
          "model_module_version": "1.5.0",
          "state": {
            "_model_module": "@jupyter-widgets/controls",
            "_model_module_version": "1.5.0",
            "_model_name": "ProgressStyleModel",
            "_view_count": null,
            "_view_module": "@jupyter-widgets/base",
            "_view_module_version": "1.2.0",
            "_view_name": "StyleView",
            "bar_color": null,
            "description_width": ""
          }
        }
      }
    }
  },
  "nbformat": 4,
  "nbformat_minor": 5
}